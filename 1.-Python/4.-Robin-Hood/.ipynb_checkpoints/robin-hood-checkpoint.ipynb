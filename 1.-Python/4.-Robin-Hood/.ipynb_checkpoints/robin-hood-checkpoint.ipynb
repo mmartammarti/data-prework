{
 "cells": [
  {
   "cell_type": "markdown",
   "metadata": {},
   "source": [
    "<img src=\"https://bit.ly/2VnXWr2\" width=\"100\" align=\"left\"/>"
   ]
  },
  {
   "cell_type": "markdown",
   "metadata": {},
   "source": [
    "# Robin Hood\n",
    "Robin Hood has entered a competition to win the archery contest in Sherwood. With his bow and arrows, he needs to shoot on a target and try to hit as close as possible to the center.\n",
    "\n",
    "![](images/arrows.jpg)\n",
    "\n",
    "## Context\n",
    "In this challenge, the landing position of arrows shot by archers in the competition will be represented using 2-dimensional coordinates. \n",
    "\n",
    "In the 2-dimensional space, a point can be defined by a pair of values that correspond to the horizontal coordinate (x) and the vertical coordinate (y). For example, in our case, an arrow that hits the center of the archery target will land in position (0, 0) on the coordinate axes. \n",
    "\n",
    "The space can be divided into 4 zones (quadrants): Q1, Q2, Q3, Q4. If a point is in Q1, both its x coordinate and y coordinate are positive. Any point with a null x or y coordinate is considered to not belong to any quadrant. \n",
    "\n",
    "If you want to know more about the cartesian coordinate system, you can check this [link](https://en.wikipedia.org/wiki/Cartesian_coordinate_system). \n",
    "\n",
    "## Tools\n",
    "You don't necessarily need to use all the tools. Maybe you opt to use some of them or completely different ones, they are given to help you shape the exercise. Programming exercises can be solved in many different ways.\n",
    "* Data structures: **lists, sets, tuples**\n",
    "* Conditional statements: **if-elif-else**\n",
    "* Loop: **while/for**\n",
    "* Minimum (optional sorting)\n",
    "\n",
    "## Tasks\n",
    "Robin Hood has hit the following points:"
   ]
  },
  {
   "cell_type": "code",
   "execution_count": 1,
   "metadata": {},
   "outputs": [],
   "source": [
    "points = [(4, 5), (-0, 2), (4, 7), (1, -3), (3, -2), (4, 5), (3, 2), (5, 7), (-5, 7), (2, 2), (-4, 5), (0, -2),\n",
    "          (-4, 7), (-1, 3), (-3, 2), (-4, -5), (-3, 2), (5, 7), (5, 7), (2, 2), (9, 9), (-8, -9)]"
   ]
  },
  {
   "cell_type": "markdown",
   "metadata": {},
   "source": [
    "#### 1. Robin Hood is famous for hitting an arrow with another arrow. Find the coordinates of the points where an arrow hits another arrow."
   ]
  },
  {
   "cell_type": "code",
   "execution_count": 2,
   "metadata": {},
   "outputs": [
    {
     "name": "stdout",
     "output_type": "stream",
     "text": [
      "Arrows hit by another arrow are in coordinates: [(4, 5), (-3, 2), (5, 7), (5, 7), (2, 2)]\n"
     ]
    }
   ],
   "source": [
    "duplicate_points = [x for n, x in enumerate(points) if x in points[:n]]\n",
    "print(\"Arrows hit by another arrow are in coordinates:\", duplicate_points)"
   ]
  },
  {
   "cell_type": "markdown",
   "metadata": {},
   "source": [
    "#### 2. Calculate how many arrows have fallen in each quadrant. \n",
    "**Note**: the arrows that fall in the axis (x=0 or y=0) don't belong to any quadrant."
   ]
  },
  {
   "cell_type": "code",
   "execution_count": 3,
   "metadata": {},
   "outputs": [
    {
     "name": "stdout",
     "output_type": "stream",
     "text": [
      "Q1 has arrows in the following points: [(4, 5), (4, 7), (4, 5), (3, 2), (5, 7), (2, 2), (5, 7), (5, 7), (2, 2), (9, 9)]\n",
      "Q2 has arrows in the following points: [(-5, 7), (-4, 5), (-4, 7), (-1, 3), (-3, 2), (-3, 2)]\n",
      "Q3 has arrows in the following points: [(-4, -5), (-8, -9)]\n",
      "Q4 has arrows in the following points: [(1, -3), (3, -2)]\n"
     ]
    }
   ],
   "source": [
    "Q1 = []\n",
    "Q2 = []\n",
    "Q3 = []\n",
    "Q4 = []\n",
    "\n",
    "for coordinate in points:\n",
    "    if coordinate[0] > 0 and coordinate[1] > 0:\n",
    "        Q1.append(coordinate)\n",
    "    elif coordinate[0] < 0 and coordinate[1] > 0:\n",
    "        Q2.append(coordinate)\n",
    "    elif coordinate[0] < 0 and coordinate[1] < 0:\n",
    "        Q3.append(coordinate)\n",
    "    elif coordinate[0] > 0 and coordinate[1] < 0:\n",
    "        Q4.append(coordinate)\n",
    "\n",
    "print(\"Q1 has arrows in the following points:\", Q1)\n",
    "print(\"Q2 has arrows in the following points:\", Q2)\n",
    "print(\"Q3 has arrows in the following points:\", Q3)\n",
    "print(\"Q4 has arrows in the following points:\", Q4)"
   ]
  },
  {
   "cell_type": "markdown",
   "metadata": {},
   "source": [
    "#### 3. Find the point closest to the center. Calculate its distance to the center. \n",
    "Take into account that there might be more than one point at the minimum distance to the center.\n",
    "\n",
    "**Hint**: Use the Euclidean distance. You can find more information about it [here](https://en.wikipedia.org/wiki/Euclidean_distance).  \n",
    "**Hint**: Defining a function that calculates the distance to the center can help."
   ]
  },
  {
   "cell_type": "code",
   "execution_count": 4,
   "metadata": {},
   "outputs": [
    {
     "name": "stdout",
     "output_type": "stream",
     "text": [
      "The closest point/s to the center is/are (0, 2) and sit at a 2.0 distance.\n"
     ]
    }
   ],
   "source": [
    "import math\n",
    "def dist(a, b):\n",
    "    return math.sqrt((b[0]-a[0])**2 + (b[1]-a[1])**2)\n",
    "\n",
    "center = (0, 0)\n",
    "closest = points[0]\n",
    "closest_dist = dist(points[0], center)\n",
    "\n",
    "for p in points:\n",
    "    d = dist(p, center)\n",
    "    if d < closest_dist:\n",
    "        closest = p\n",
    "        closest_dist = d\n",
    "\n",
    "print(\"The closest point/s to the center is/are {} and sit at a {} distance.\".format(closest, closest_dist))"
   ]
  },
  {
   "cell_type": "markdown",
   "metadata": {},
   "source": [
    "#### 4. If the archery target has a radius of 9, calculate the number of arrows that won't hit the target. \n",
    "**Hint**: Use the function created in step 3. "
   ]
  },
  {
   "cell_type": "code",
   "execution_count": 6,
   "metadata": {},
   "outputs": [
    {
     "name": "stdout",
     "output_type": "stream",
     "text": [
      "2 arrow/s missed the target\n"
     ]
    }
   ],
   "source": [
    "r = 9\n",
    "misses = 0\n",
    "for p in points:\n",
    "    if dist(p, center) > r:\n",
    "        misses += 1\n",
    "\n",
    "print(\"{} arrow/s missed the target\".format(misses))"
   ]
  },
  {
   "cell_type": "code",
   "execution_count": null,
   "metadata": {},
   "outputs": [],
   "source": []
  }
 ],
 "metadata": {
  "kernelspec": {
   "display_name": "Python 3",
   "language": "python",
   "name": "python3"
  },
  "language_info": {
   "codemirror_mode": {
    "name": "ipython",
    "version": 3
   },
   "file_extension": ".py",
   "mimetype": "text/x-python",
   "name": "python",
   "nbconvert_exporter": "python",
   "pygments_lexer": "ipython3",
   "version": "3.9.5"
  }
 },
 "nbformat": 4,
 "nbformat_minor": 2
}
